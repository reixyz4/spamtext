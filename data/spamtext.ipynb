{
 "cells": [
  {
   "cell_type": "code",
   "execution_count": 1,
   "id": "a937aee2-0345-494e-92b0-6b834b8249bb",
   "metadata": {},
   "outputs": [],
   "source": [
    "import os\n",
    "import pandas as pd\n",
    "import numpy as np\n",
    "\n",
    "import sklearn\n",
    "from sklearn.model_selection import train_test_split\n",
    "from sklearn.feature_extraction.text import CountVectorizer\n",
    "from sklearn.feature_extraction.text import TfidfVectorizer\n",
    "from sklearn.naive_bayes import MultinomialNB\n",
    "from sklearn.metrics import roc_auc_score\n",
    "from sklearn.svm import SVC"
   ]
  },
  {
   "cell_type": "code",
   "execution_count": 2,
   "id": "4b4e9a21-0c33-4da8-9f2a-5fb15ac92e94",
   "metadata": {},
   "outputs": [],
   "source": [
    "#initial data set\n",
    "\n",
    "train = pd.read_csv('./train.csv')\n",
    "test = pd.read_csv('./test.csv')\n",
    "valid = pd.read_csv('./valid.csv')"
   ]
  },
  {
   "cell_type": "code",
   "execution_count": 4,
   "id": "1303c291-4956-4b6a-bec9-3b85dd11da0b",
   "metadata": {},
   "outputs": [
    {
     "data": {
      "text/html": [
       "<div>\n",
       "<style scoped>\n",
       "    .dataframe tbody tr th:only-of-type {\n",
       "        vertical-align: middle;\n",
       "    }\n",
       "\n",
       "    .dataframe tbody tr th {\n",
       "        vertical-align: top;\n",
       "    }\n",
       "\n",
       "    .dataframe thead th {\n",
       "        text-align: right;\n",
       "    }\n",
       "</style>\n",
       "<table border=\"1\" class=\"dataframe\">\n",
       "  <thead>\n",
       "    <tr style=\"text-align: right;\">\n",
       "      <th></th>\n",
       "      <th>text</th>\n",
       "      <th>label</th>\n",
       "    </tr>\n",
       "  </thead>\n",
       "  <tbody>\n",
       "    <tr>\n",
       "      <th>0</th>\n",
       "      <td>i m in solihull  | do you want anything</td>\n",
       "      <td>1</td>\n",
       "    </tr>\n",
       "    <tr>\n",
       "      <th>1</th>\n",
       "      <td>gud mrng dear hav a nice day</td>\n",
       "      <td>1</td>\n",
       "    </tr>\n",
       "    <tr>\n",
       "      <th>2</th>\n",
       "      <td>dude how do you like the buff wind</td>\n",
       "      <td>1</td>\n",
       "    </tr>\n",
       "    <tr>\n",
       "      <th>3</th>\n",
       "      <td>yup  wun believe wat  u really neva c e msg i ...</td>\n",
       "      <td>1</td>\n",
       "    </tr>\n",
       "    <tr>\n",
       "      <th>4</th>\n",
       "      <td>did you get any gift  this year i didnt get an...</td>\n",
       "      <td>1</td>\n",
       "    </tr>\n",
       "    <tr>\n",
       "      <th>5</th>\n",
       "      <td>hello from orange  for 1 month s free access t...</td>\n",
       "      <td>0</td>\n",
       "    </tr>\n",
       "    <tr>\n",
       "      <th>6</th>\n",
       "      <td>ü still attending da talks</td>\n",
       "      <td>1</td>\n",
       "    </tr>\n",
       "    <tr>\n",
       "      <th>7</th>\n",
       "      <td>thk some of em find wtc too far    weiyi not g...</td>\n",
       "      <td>1</td>\n",
       "    </tr>\n",
       "    <tr>\n",
       "      <th>8</th>\n",
       "      <td>oh is it  send me the address</td>\n",
       "      <td>1</td>\n",
       "    </tr>\n",
       "    <tr>\n",
       "      <th>9</th>\n",
       "      <td>my sister in law  hope you are having a great ...</td>\n",
       "      <td>1</td>\n",
       "    </tr>\n",
       "  </tbody>\n",
       "</table>\n",
       "</div>"
      ],
      "text/plain": [
       "                                                text  label\n",
       "0           i m in solihull  | do you want anything       1\n",
       "1                       gud mrng dear hav a nice day      1\n",
       "2                dude how do you like the buff wind       1\n",
       "3  yup  wun believe wat  u really neva c e msg i ...      1\n",
       "4  did you get any gift  this year i didnt get an...      1\n",
       "5  hello from orange  for 1 month s free access t...      0\n",
       "6                        ü still attending da talks       1\n",
       "7  thk some of em find wtc too far    weiyi not g...      1\n",
       "8                      oh is it  send me the address      1\n",
       "9  my sister in law  hope you are having a great ...      1"
      ]
     },
     "execution_count": 4,
     "metadata": {},
     "output_type": "execute_result"
    }
   ],
   "source": [
    "train.head(10) #1 is legit and #0 is spam"
   ]
  },
  {
   "cell_type": "markdown",
   "id": "e376d749-25e4-4d1e-9bfb-8e9d46a39d32",
   "metadata": {},
   "source": [
    "Exploratory Data Analysis"
   ]
  },
  {
   "cell_type": "code",
   "execution_count": 5,
   "id": "e657a96e-988b-45dd-a6d2-ab057afe4214",
   "metadata": {},
   "outputs": [
    {
     "data": {
      "text/plain": [
       "86.48648648648648"
      ]
     },
     "execution_count": 5,
     "metadata": {},
     "output_type": "execute_result"
    }
   ],
   "source": [
    "#Percentage of legit Messages\n",
    "train['label'].mean()*100 "
   ]
  },
  {
   "cell_type": "code",
   "execution_count": 23,
   "id": "8ad312ba-5769-4c1f-a925-d4d3b034ebd4",
   "metadata": {},
   "outputs": [
    {
     "name": "stdout",
     "output_type": "stream",
     "text": [
      "                                                text  label  length  len\n",
      "0           i m in solihull  | do you want anything       1       0   40\n",
      "1                       gud mrng dear hav a nice day      1       0   28\n",
      "2                dude how do you like the buff wind       1       0   35\n",
      "3  yup  wun believe wat  u really neva c e msg i ...      1       0   58\n",
      "4  did you get any gift  this year i didnt get an...      1       0   60\n",
      "                                                 text  label  length  len\n",
      "5   hello from orange  for 1 month s free access t...      0       5  156\n",
      "44  you ve won tkts to the euro2004 cup final or £...      0      32  110\n",
      "46  important information 4 orange user 0789xxxxxx...      0       6  163\n",
      "48  hey boys  want hot xxx pics sent direct 2 ur p...      0      12  140\n",
      "70   123 congratulations   in this week s competit...      0      41  169\n"
     ]
    },
    {
     "name": "stderr",
     "output_type": "stream",
     "text": [
      "C:\\Users\\Rachel\\AppData\\Local\\Temp\\ipykernel_6648\\172300792.py:5: SettingWithCopyWarning: \n",
      "A value is trying to be set on a copy of a slice from a DataFrame.\n",
      "Try using .loc[row_indexer,col_indexer] = value instead\n",
      "\n",
      "See the caveats in the documentation: https://pandas.pydata.org/pandas-docs/stable/user_guide/indexing.html#returning-a-view-versus-a-copy\n",
      "  df_legit['len'] = [len(x) for x in df_legit[\"text\"]]\n",
      "C:\\Users\\Rachel\\AppData\\Local\\Temp\\ipykernel_6648\\172300792.py:10: SettingWithCopyWarning: \n",
      "A value is trying to be set on a copy of a slice from a DataFrame.\n",
      "Try using .loc[row_indexer,col_indexer] = value instead\n",
      "\n",
      "See the caveats in the documentation: https://pandas.pydata.org/pandas-docs/stable/user_guide/indexing.html#returning-a-view-versus-a-copy\n",
      "  df_spam['len'] = [len(x) for x in df_spam[\"text\"]]\n"
     ]
    }
   ],
   "source": [
    "#creating two seperate dfs: 1 for legit and 1 for Spam\n",
    "df_legit = train.loc[ train['label']==1]\n",
    "df_spam = train.loc[ train['label']==0]\n",
    "    \n",
    "df_legit['len'] = [len(x) for x in df_legit[\"text\"]]\n",
    "spamavg = df_legit.len.mean()\n",
    "\n",
    "print(df_legit.head(5))\n",
    "\n",
    "df_spam['len'] = [len(x) for x in df_spam[\"text\"]]\n",
    "nonspamavg = df_spam.len.mean()\n",
    "print(df_spam.head(5))"
   ]
  },
  {
   "cell_type": "code",
   "execution_count": 7,
   "id": "9a85eb50-758d-4c13-81c6-fb5cb100c6ca",
   "metadata": {},
   "outputs": [
    {
     "data": {
      "text/plain": [
       "71.397216796875"
      ]
     },
     "execution_count": 7,
     "metadata": {},
     "output_type": "execute_result"
    }
   ],
   "source": [
    "spamavg"
   ]
  },
  {
   "cell_type": "code",
   "execution_count": 8,
   "id": "7f78a55e-905b-47b0-bd2e-00c5774a7872",
   "metadata": {},
   "outputs": [
    {
     "data": {
      "text/plain": [
       "138.546875"
      ]
     },
     "execution_count": 8,
     "metadata": {},
     "output_type": "execute_result"
    }
   ],
   "source": [
    "nonspamavg"
   ]
  },
  {
   "cell_type": "code",
   "execution_count": 9,
   "id": "9ce9cc9a-c375-40f6-8ed8-a7810c0a0df0",
   "metadata": {},
   "outputs": [
    {
     "name": "stdout",
     "output_type": "stream",
     "text": [
      "0.308349609375 15.846875\n",
      "                                                text  label  length\n",
      "0           i m in solihull  | do you want anything       1       0\n",
      "1                       gud mrng dear hav a nice day      1       0\n",
      "2                dude how do you like the buff wind       1       0\n",
      "3  yup  wun believe wat  u really neva c e msg i ...      1       0\n",
      "4  did you get any gift  this year i didnt get an...      1       0\n",
      "5  hello from orange  for 1 month s free access t...      0       5\n",
      "6                        ü still attending da talks       1       0\n",
      "7  thk some of em find wtc too far    weiyi not g...      1       1\n",
      "8                      oh is it  send me the address      1       0\n",
      "9  my sister in law  hope you are having a great ...      1       0\n"
     ]
    }
   ],
   "source": [
    "train['length'] = train['text'].apply(lambda x: len(''.join([a for a in x if a.isdigit()])))\n",
    "\n",
    "print(np.mean(train['length'][train['label'] == 1]), np.mean(train['length'][train['label'] == 0]))\n",
    "\n",
    "print(train.head(10))"
   ]
  },
  {
   "cell_type": "code",
   "execution_count": 10,
   "id": "acfeb85b-c292-4062-8a96-9a462701e003",
   "metadata": {},
   "outputs": [
    {
     "name": "stdout",
     "output_type": "stream",
     "text": [
      "0.2 5.5\n",
      "                                                text  label  length\n",
      "0                 why did i wake up on my own  gt         1       0\n",
      "1      win a £1000 cash prize or a prize worth £5000      0       8\n",
      "2                                        ok thanx         1       0\n",
      "3  burger king   wanna play footy at a top stadiu...      0       2\n",
      "4  no problem  we will be spending a lot of quali...      1       0\n",
      "5                         happy new year my no 1 man      1       1\n",
      "6  for your chance to win a free bluetooth headse...      0       0\n",
      "7  bloomberg  message center  447797706009 why wa...      0      12\n",
      "8  jus finish blowing my hair  u finish dinner al...      1       0\n"
     ]
    }
   ],
   "source": [
    "test['length'] = test['text'].apply(lambda x: len(''.join([a for a in x if a.isdigit()])))\n",
    "\n",
    "print(np.mean(test['length'][test['label'] == 1]), np.mean(test['length'][test['label'] == 0]))\n",
    "\n",
    "print(test.head(10))"
   ]
  },
  {
   "cell_type": "code",
   "execution_count": 11,
   "id": "6472e681-d1ae-4f5b-8624-7cf9f0b292b2",
   "metadata": {},
   "outputs": [
    {
     "name": "stdout",
     "output_type": "stream",
     "text": [
      "0.24903474903474904 14.73134328358209\n",
      "                                                text  label  length\n",
      "0  hello darling how are you today  i would love ...      0       0\n",
      "1                 why did i wake up on my own  gt         1       0\n",
      "2                        super msg da  nalla timing       1       0\n",
      "3             i want to be inside you every night         1       0\n",
      "4                         happy new year my no 1 man      1       1\n",
      "5  for your chance to win a free bluetooth headse...      0       0\n",
      "6                             lil fever   now fine        1       0\n",
      "7                                        ok thanx         1       0\n",
      "8  jus finish blowing my hair  u finish dinner al...      1       0\n",
      "9  no problem  we will be spending a lot of quali...      1       0\n"
     ]
    }
   ],
   "source": [
    "valid['length'] = valid['text'].apply(lambda x: len(''.join([a for a in x if a.isdigit()])))\n",
    "\n",
    "print(np.mean(valid['length'][valid['label'] == 1]), np.mean(valid['length'][valid['label'] == 0]))\n",
    "\n",
    "print(valid.head(10))"
   ]
  },
  {
   "cell_type": "code",
   "execution_count": 12,
   "id": "0c1fa793-e46b-4268-9396-180d317ac9da",
   "metadata": {},
   "outputs": [],
   "source": [
    "X_train=train['text']\n",
    "Y_train=train['label']\n",
    " \n",
    "X_test=test['text']\n",
    "Y_test=test['label']\n",
    "\n",
    "X_valid=valid['text']\n",
    "Y_valid=valid['label']"
   ]
  },
  {
   "cell_type": "markdown",
   "id": "e37890ca-ea0a-4829-9225-69f49e41eb6d",
   "metadata": {},
   "source": [
    "Data Modelling\n",
    "MNNB Model (Count Vectorizer)"
   ]
  },
  {
   "cell_type": "code",
   "execution_count": 13,
   "id": "1cb64751-7fc1-4bc2-a6d5-728631f02418",
   "metadata": {},
   "outputs": [],
   "source": [
    "#fitting and transforming X_train using a Count Vectorizer with default parameters\n",
    "vect = CountVectorizer().fit(X_train)\n",
    "X_train_vectorized = vect.transform(X_train)"
   ]
  },
  {
   "cell_type": "code",
   "execution_count": 14,
   "id": "62eb9654-d3e4-41e4-b29a-b1a0862aeb8d",
   "metadata": {},
   "outputs": [
    {
     "data": {
      "text/plain": [
       "CountVectorizer()"
      ]
     },
     "execution_count": 14,
     "metadata": {},
     "output_type": "execute_result"
    }
   ],
   "source": [
    "vect"
   ]
  },
  {
   "cell_type": "code",
   "execution_count": 15,
   "id": "b798c650-0f14-4a6c-8907-b09dc47153bb",
   "metadata": {},
   "outputs": [
    {
     "data": {
      "text/plain": [
       "<4736x7952 sparse matrix of type '<class 'numpy.int64'>'\n",
       "\twith 63048 stored elements in Compressed Sparse Row format>"
      ]
     },
     "execution_count": 15,
     "metadata": {},
     "output_type": "execute_result"
    }
   ],
   "source": [
    "X_train_vectorized"
   ]
  },
  {
   "cell_type": "code",
   "execution_count": 16,
   "id": "d6994f31-3d6c-43e8-8d47-5fb80072b178",
   "metadata": {},
   "outputs": [],
   "source": [
    "#fitting a multinomial Naive Bayes Classifier Model with smoothing alpha=0.1\n",
    "model = sklearn.naive_bayes.MultinomialNB(alpha=0.1)\n",
    "model_fit = model.fit(X_train_vectorized, Y_train)"
   ]
  },
  {
   "cell_type": "code",
   "execution_count": 17,
   "id": "cef3e9a8-f3b5-4211-a4c3-755bc34dbc6c",
   "metadata": {},
   "outputs": [
    {
     "data": {
      "text/plain": [
       "1.0"
      ]
     },
     "execution_count": 17,
     "metadata": {},
     "output_type": "execute_result"
    }
   ],
   "source": [
    "#making predictions & looking at AUC score\n",
    "predictions = model.predict(vect.transform(X_test))\n",
    "aucscore = roc_auc_score(Y_test, predictions) \n",
    "aucscore"
   ]
  },
  {
   "cell_type": "code",
   "execution_count": 18,
   "id": "1b0279e0-701b-47af-929b-b24b9575565b",
   "metadata": {},
   "outputs": [
    {
     "name": "stdout",
     "output_type": "stream",
     "text": [
      "              Predicted Legit  Predicted Spam\n",
      "Actual Legit                4               0\n",
      "Actual Spam                 0               5\n",
      "\n",
      "True Positives: 5\n",
      "False Positives: 0\n",
      "True Negatives: 4\n",
      "False Negatives: 0\n",
      "\n",
      "True Positive Rate: 1.0\n",
      "Specificity: 1.0\n",
      "False Positive Rate: 0.0\n"
     ]
    }
   ],
   "source": [
    "#confusion matrix\n",
    "from sklearn.metrics import confusion_matrix\n",
    "tn, fp, fn, tp = confusion_matrix(Y_test, predictions).ravel()\n",
    "print(pd.DataFrame(confusion_matrix(Y_test, predictions),\n",
    "             columns=['Predicted Legit', \"Predicted Spam\"], index=['Actual Legit', 'Actual Spam']))\n",
    "\n",
    "print(f'\\nTrue Positives: {tp}')\n",
    "print(f'False Positives: {fp}')\n",
    "print(f'True Negatives: {tn}')\n",
    "print(f'False Negatives: {fn}')\n",
    "\n",
    "print(f'\\nTrue Positive Rate: { (tp / (tp + fn))}')\n",
    "print(f'Specificity: { (tn / (tn + fp))}')\n",
    "print(f'False Positive Rate: { (fp / (fp + tn))}')"
   ]
  },
  {
   "cell_type": "markdown",
   "id": "1336417a-459a-4aa8-98fa-3e61d249072f",
   "metadata": {},
   "source": [
    "Data Modelling\n",
    "MNNB Model (tfid Vectorizer)"
   ]
  },
  {
   "cell_type": "code",
   "execution_count": null,
   "id": "0837fc58-2821-4737-9b5b-e871ff5ccbc7",
   "metadata": {},
   "outputs": [],
   "source": [
    "# fitting and transforming X_train using a tfid vectorizer, ignoring terms with a document frequency lower than 3.\n",
    "vect = TfidfVectorizer(min_df=3).fit(X_train)\n",
    "X_train_vectorized = vect.transform(X_train)"
   ]
  },
  {
   "cell_type": "code",
   "execution_count": null,
   "id": "08685359-da54-45ac-8747-830e52e32807",
   "metadata": {},
   "outputs": [],
   "source": [
    "# fitting training data to a multinomial NB model\n",
    "model = sklearn.naive_bayes.MultinomialNB()\n",
    "model_fit = model.fit(X_train_vectorized, Y_train) "
   ]
  },
  {
   "cell_type": "code",
   "execution_count": 24,
   "id": "f2effd2d-2788-49d8-ae48-e41d8dd289c0",
   "metadata": {},
   "outputs": [
    {
     "name": "stderr",
     "output_type": "stream",
     "text": [
      "C:\\Users\\Rachel\\anaconda3\\lib\\site-packages\\sklearn\\utils\\deprecation.py:87: FutureWarning: Function get_feature_names is deprecated; get_feature_names is deprecated in 1.0 and will be removed in 1.2. Please use get_feature_names_out instead.\n",
      "  warnings.warn(msg, category=FutureWarning)\n"
     ]
    },
    {
     "data": {
      "text/plain": [
       "(0           00\n",
       " 1        pairs\n",
       " 2     painting\n",
       " 3      painful\n",
       " 4         pain\n",
       " 5          pai\n",
       " 6         page\n",
       " 7        padhe\n",
       " 8        packs\n",
       " 9      packing\n",
       " 10     package\n",
       " 11       paces\n",
       " 12          oz\n",
       " 13      oyster\n",
       " 14      oxygen\n",
       " 15         owo\n",
       " 16        owns\n",
       " 17       owned\n",
       " 18         owl\n",
       " 19        owed\n",
       " dtype: object,\n",
       " 0       smile\n",
       " 1          is\n",
       " 2         are\n",
       " 3     missing\n",
       " 4         for\n",
       " 5          ur\n",
       " 6          if\n",
       " 7         can\n",
       " 8          hi\n",
       " 9          to\n",
       " 10         do\n",
       " 11        the\n",
       " 12       face\n",
       " 13        her\n",
       " 14         be\n",
       " 15         it\n",
       " 16       will\n",
       " 17         my\n",
       " 18        you\n",
       " 19         lt\n",
       " dtype: object)"
      ]
     },
     "execution_count": 24,
     "metadata": {},
     "output_type": "execute_result"
    }
   ],
   "source": [
    "#looking at model features\n",
    "feature_names = np.array(vect.get_feature_names())\n",
    "sorted_tfidf_index = X_train_vectorized.max(0).toarray()[0].argsort()\n",
    "((pd.Series(feature_names[sorted_tfidf_index[:20]]),\n",
    "            pd.Series(feature_names[sorted_tfidf_index[-21:-1]])))"
   ]
  },
  {
   "cell_type": "code",
   "execution_count": 26,
   "id": "d7457588-bc30-4c23-8438-6b959a7736a5",
   "metadata": {},
   "outputs": [
    {
     "name": "stdout",
     "output_type": "stream",
     "text": [
      "1.0\n"
     ]
    }
   ],
   "source": [
    "#making predictions\n",
    "predictions = model_fit.predict(vect.transform(X_test))\n",
    "aucscore = roc_auc_score(Y_test, predictions)\n",
    "print(aucscore)"
   ]
  },
  {
   "cell_type": "code",
   "execution_count": 27,
   "id": "752b3ebc-4b5d-46e3-a83a-4c6d9e343962",
   "metadata": {},
   "outputs": [
    {
     "name": "stdout",
     "output_type": "stream",
     "text": [
      "              Predicted Legit  Predicted Spam\n",
      "Actual Legit                4               0\n",
      "Actual Spam                 0               5\n",
      "\n",
      "True Positives: 5\n",
      "False Positives: 0\n",
      "True Negatives: 4\n",
      "False Negatives: 0\n",
      "\n",
      "True Positive Rate: 1.0\n",
      "Specificity: 1.0\n",
      "False Positive Rate: 0.0\n"
     ]
    }
   ],
   "source": [
    "#confusion matrix\n",
    "from sklearn.metrics import confusion_matrix\n",
    "tn, fp, fn, tp = confusion_matrix(Y_test, predictions).ravel()\n",
    "print(pd.DataFrame(confusion_matrix(Y_test, predictions),\n",
    "             columns=['Predicted Legit', \"Predicted Spam\"], index=['Actual Legit', 'Actual Spam']))\n",
    "\n",
    "print(f'\\nTrue Positives: {tp}')\n",
    "print(f'False Positives: {fp}')\n",
    "print(f'True Negatives: {tn}')\n",
    "print(f'False Negatives: {fn}')\n",
    "\n",
    "print(f'\\nTrue Positive Rate: { (tp / (tp + fn))}')\n",
    "print(f'Specificity: { (tn / (tn + fp))}')\n",
    "print(f'False Positive Rate: { (fp / (fp + tn))}')"
   ]
  },
  {
   "cell_type": "markdown",
   "id": "e5b89465-d32a-4771-98d2-4a9986d4d99a",
   "metadata": {},
   "source": [
    "SVC MODEL"
   ]
  },
  {
   "cell_type": "code",
   "execution_count": 28,
   "id": "56ff1b57-8cfb-4a25-b729-ceed7eae7dda",
   "metadata": {},
   "outputs": [],
   "source": [
    "#defining an additional function\n",
    "def add_feature(X, feature_to_add):\n",
    "    \"\"\"\n",
    "    Returns sparse feature matrix with added feature.\n",
    "    feature_to_add can also be a list of features.\n",
    "    \"\"\"\n",
    "    from scipy.sparse import csr_matrix, hstack\n",
    "    return hstack([X, csr_matrix(feature_to_add).T], 'csr')"
   ]
  },
  {
   "cell_type": "code",
   "execution_count": 29,
   "id": "1f920638-6af9-46a4-8877-f2d04cf0722e",
   "metadata": {},
   "outputs": [],
   "source": [
    "#fit and transfor X_train and X_test\n",
    "vectorizer = TfidfVectorizer(min_df=5)\n",
    "\n",
    "X_train_transformed = vectorizer.fit_transform(X_train)\n",
    "X_train_transformed_with_length = add_feature(X_train_transformed, X_train.str.len())\n",
    "\n",
    "X_test_transformed = vectorizer.transform(X_test)\n",
    "X_test_transformed_with_length = add_feature(X_test_transformed, X_test.str.len())"
   ]
  },
  {
   "cell_type": "code",
   "execution_count": 32,
   "id": "7a1cabd9-c6d1-4187-a189-67535aff27b8",
   "metadata": {},
   "outputs": [
    {
     "data": {
      "text/plain": [
       "SVC(C=10000)"
      ]
     },
     "execution_count": 32,
     "metadata": {},
     "output_type": "execute_result"
    }
   ],
   "source": [
    "# SVM creation\n",
    "clf = SVC(C=10000)\n",
    "\n",
    "clf.fit(X_train_transformed_with_length, Y_train)"
   ]
  },
  {
   "cell_type": "code",
   "execution_count": 33,
   "id": "eda067a6-e922-4110-b5d6-4420af668f07",
   "metadata": {},
   "outputs": [],
   "source": [
    "Y_predicted = clf.predict(X_test_transformed_with_length)"
   ]
  },
  {
   "cell_type": "code",
   "execution_count": 34,
   "id": "76d5e6ff-bebd-491a-8fc8-9242efef96ad",
   "metadata": {},
   "outputs": [
    {
     "data": {
      "text/plain": [
       "0.75"
      ]
     },
     "execution_count": 34,
     "metadata": {},
     "output_type": "execute_result"
    }
   ],
   "source": [
    "roc_auc_score(Y_test, Y_predicted)"
   ]
  },
  {
   "cell_type": "code",
   "execution_count": 35,
   "id": "ebf3f739-3339-45bf-b855-165a4bdb1b26",
   "metadata": {},
   "outputs": [
    {
     "name": "stdout",
     "output_type": "stream",
     "text": [
      "              Predicted Legit  Predicted Spam\n",
      "Actual Legit                2               2\n",
      "Actual Spam                 0               5\n",
      "\n",
      "True Positives: 5\n",
      "False Positives: 2\n",
      "True Negatives: 2\n",
      "False Negatives: 0\n",
      "\n",
      "True Positive Rate: 1.0\n",
      "Specificity: 0.5\n",
      "False Positive Rate: 0.5\n"
     ]
    }
   ],
   "source": [
    "#confusion matrix\n",
    "from sklearn.metrics import confusion_matrix\n",
    "tn, fp, fn, tp = confusion_matrix(Y_test, Y_predicted).ravel()\n",
    "print(pd.DataFrame(confusion_matrix(Y_test, Y_predicted),\n",
    "             columns=['Predicted Legit', \"Predicted Spam\"], index=['Actual Legit', 'Actual Spam']))\n",
    "\n",
    "print(f'\\nTrue Positives: {tp}')\n",
    "print(f'False Positives: {fp}')\n",
    "print(f'True Negatives: {tn}')\n",
    "print(f'False Negatives: {fn}')\n",
    "\n",
    "print(f'\\nTrue Positive Rate: { (tp / (tp + fn))}')\n",
    "print(f'Specificity: { (tn / (tn + fp))}')\n",
    "print(f'False Positive Rate: { (fp / (fp + tn))}')"
   ]
  },
  {
   "cell_type": "markdown",
   "id": "d267cf9c-7b0c-43e5-b3c6-ceb4ca74e488",
   "metadata": {},
   "source": [
    "Logistic Regression Model with ngrams"
   ]
  },
  {
   "cell_type": "code",
   "execution_count": 36,
   "id": "20a015a3-94a6-460d-9943-87097652c1ca",
   "metadata": {},
   "outputs": [
    {
     "name": "stderr",
     "output_type": "stream",
     "text": [
      "C:\\Users\\Rachel\\anaconda3\\lib\\site-packages\\sklearn\\linear_model\\_logistic.py:814: ConvergenceWarning: lbfgs failed to converge (status=1):\n",
      "STOP: TOTAL NO. of ITERATIONS REACHED LIMIT.\n",
      "\n",
      "Increase the number of iterations (max_iter) or scale the data as shown in:\n",
      "    https://scikit-learn.org/stable/modules/preprocessing.html\n",
      "Please also refer to the documentation for alternative solver options:\n",
      "    https://scikit-learn.org/stable/modules/linear_model.html#logistic-regression\n",
      "  n_iter_i = _check_optimize_result(\n"
     ]
    },
    {
     "data": {
      "text/plain": [
       "0.875"
      ]
     },
     "execution_count": 36,
     "metadata": {},
     "output_type": "execute_result"
    }
   ],
   "source": [
    "from sklearn.linear_model import LogisticRegression\n",
    "\n",
    "vectorizer = TfidfVectorizer(min_df=5, ngram_range=[1,3])\n",
    "\n",
    "X_train_transformed = vectorizer.fit_transform(X_train)\n",
    "X_train_transformed_with_length = add_feature(X_train_transformed, [X_train.str.len(),\n",
    "                                                                    X_train.apply(lambda x: len(''.join([a for a in x if a.isdigit()])))])\n",
    "\n",
    "X_test_transformed = vectorizer.transform(X_test)\n",
    "X_test_transformed_with_length = add_feature(X_test_transformed, [X_test.str.len(),\n",
    "                                                                  X_test.apply(lambda x: len(''.join([a for a in x if a.isdigit()])))])\n",
    "\n",
    "clf = LogisticRegression(C=100)\n",
    "\n",
    "clf.fit(X_train_transformed_with_length, Y_train)\n",
    "\n",
    "Y_predicted = clf.predict(X_test_transformed_with_length)\n",
    "\n",
    "roc_auc_score(Y_test, Y_predicted)"
   ]
  },
  {
   "cell_type": "code",
   "execution_count": 37,
   "id": "93ec017e-9c24-4d2e-a82a-656ae9f42da6",
   "metadata": {},
   "outputs": [
    {
     "name": "stdout",
     "output_type": "stream",
     "text": [
      "              Predicted Legit  Predicted Spam\n",
      "Actual Legit                3               1\n",
      "Actual Spam                 0               5\n",
      "\n",
      "True Positives: 5\n",
      "False Positives: 1\n",
      "True Negatives: 3\n",
      "False Negatives: 0\n",
      "\n",
      "True Positive Rate: 1.0\n",
      "Specificity: 0.75\n",
      "False Positive Rate: 0.25\n"
     ]
    }
   ],
   "source": [
    "#confusion matrix\n",
    "from sklearn.metrics import confusion_matrix\n",
    "tn, fp, fn, tp = confusion_matrix(Y_test, Y_predicted).ravel()\n",
    "print(pd.DataFrame(confusion_matrix(Y_test, Y_predicted),\n",
    "             columns=['Predicted Legit', \"Predicted Spam\"], index=['Actual Legit', 'Actual Spam']))\n",
    "\n",
    "print(f'\\nTrue Positives: {tp}')\n",
    "print(f'False Positives: {fp}')\n",
    "print(f'True Negatives: {tn}')\n",
    "print(f'False Negatives: {fn}')\n",
    "\n",
    "print(f'\\nTrue Positive Rate: { (tp / (tp + fn))}')\n",
    "print(f'Specificity: { (tn / (tn + fp))}')\n",
    "print(f'False Positive Rate: { (fp / (fp + tn))}')"
   ]
  },
  {
   "cell_type": "markdown",
   "id": "a356fe04-0917-480b-90d8-a1ef547778ab",
   "metadata": {},
   "source": [
    "Model Comparison"
   ]
  },
  {
   "cell_type": "code",
   "execution_count": 38,
   "id": "2a7e347b-918f-45f3-8461-7ed82a14d668",
   "metadata": {},
   "outputs": [
    {
     "data": {
      "image/png": "[encoded data removed]",
      "text/plain": [
       "<Figure size 432x288 with 1 Axes>"
      ]
     },
     "metadata": {
      "needs_background": "light"
     },
     "output_type": "display_data"
    }
   ],
   "source": [
    "import seaborn as sb\n",
    "import matplotlib.pyplot as plt\n",
    "\n",
    "label = ['MNNB CV', 'MNNB TV', 'SVC', 'Logistic']\n",
    "auclist = [1.0, 1.0, 0.75, 0.875]\n",
    "\n",
    "#generates an array of length label and use it on the X-axis\n",
    "def plot_bar_x():\n",
    "    # this is for plotting purpose\n",
    "    index = np.arange(len(label))\n",
    "    clrs = ['grey' if (x < max(auclist)) else 'red' for x in auclist ]\n",
    "    g=sb.barplot(x=index, y=auclist, palette=clrs) # color=clrs)   \n",
    "    plt.xlabel('Model type', fontsize=10)\n",
    "    plt.ylabel('AUC score', fontsize=10)\n",
    "    plt.xticks(index, label, fontsize=10, rotation=30)\n",
    "    plt.title('AUC score for each fitted model')\n",
    "    ax=g\n",
    "    for p in ax.patches:\n",
    "             ax.annotate(\"%.2f\" % p.get_height(), (p.get_x() + p.get_width() / 2., p.get_height()),\n",
    "                 ha='center', va='center', fontsize=11, color='gray', xytext=(0, 20),\n",
    "                 textcoords='offset points')\n",
    "    g.set_ylim(0,1.25) #To make space for the annotations\n",
    "\n",
    "plot_bar_x()"
   ]
  },
  {
   "cell_type": "raw",
   "id": "5051ad39-4e2f-43e4-9edb-a41f5142fc1a",
   "metadata": {},
   "source": [
    "Conclusion: Both MNNB models are accurate, followed by Logistic and lastly SVC\n",
    "The dataset may be too small which causes the values of AUC scores, TP, FP,TN, FN to be quite rigid."
   ]
  }
 ],
 "metadata": {
  "kernelspec": {
   "display_name": "Python 3 (ipykernel)",
   "language": "python",
   "name": "python3"
  },
  "language_info": {
   "codemirror_mode": {
    "name": "ipython",
    "version": 3
   },
   "file_extension": ".py",
   "mimetype": "text/x-python",
   "name": "python",
   "nbconvert_exporter": "python",
   "pygments_lexer": "ipython3",
   "version": "3.9.12"
  }
 },
 "nbformat": 4,
 "nbformat_minor": 5
}
